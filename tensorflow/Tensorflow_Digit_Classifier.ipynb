{
  "nbformat": 4,
  "nbformat_minor": 0,
  "metadata": {
    "kernelspec": {
      "display_name": "Python 3",
      "language": "python",
      "name": "python3"
    },
    "language_info": {
      "codemirror_mode": {
        "name": "ipython",
        "version": 3
      },
      "file_extension": ".py",
      "mimetype": "text/x-python",
      "name": "python",
      "nbconvert_exporter": "python",
      "pygments_lexer": "ipython3",
      "version": "3.7.5"
    },
    "colab": {
      "name": "proj-tf1.py.ipynb",
      "provenance": []
    }
  },
  "cells": [
    {
      "cell_type": "markdown",
      "metadata": {
        "id": "kL-wPpTlmEdP",
        "colab_type": "text"
      },
      "source": [
        "# MNIST Digit Classification"
      ]
    },
    {
      "cell_type": "markdown",
      "metadata": {
        "id": "f1CUcNA3mEdQ",
        "colab_type": "text"
      },
      "source": [
        "### Import libraries"
      ]
    },
    {
      "cell_type": "code",
      "metadata": {
        "id": "xPyQrMHymEdQ",
        "colab_type": "code",
        "colab": {
          "base_uri": "https://localhost:8080/",
          "height": 82
        },
        "outputId": "9c00a47f-7ce9-4ee1-f8d0-a8d7c90f3e75"
      },
      "source": [
        "\"\"\" MNIST Digit Classification \"\"\"\n",
        "\n",
        "print(\"Import libraries\")\n",
        "import tensorflow as tf\n",
        "import numpy as np\n",
        "import pandas as pd\n",
        "import os\n",
        "from numpy.random import seed\n",
        "from tensorflow.keras.layers import MaxPool2D, Conv2D, Flatten, Dense, BatchNormalization, ReLU\n",
        "from tensorflow.keras.models import Sequential\n",
        "from tensorflow.keras.callbacks import ModelCheckpoint, EarlyStopping, ReduceLROnPlateau\n",
        "from tensorflow.keras.preprocessing.image import ImageDataGenerator\n",
        "from tensorflow.keras.optimizers import Adam\n",
        "from tensorflow.keras.regularizers import l2\n",
        "from sklearn.model_selection import train_test_split\n",
        "import matplotlib.pyplot as plt\n",
        "%matplotlib inline\n",
        "\n",
        "\"\"\" check libraries' versions \"\"\"\n",
        "print(\"Tensorflow version\", tf.__version__)\n",
        "print(\"Numpy version\", np.__version__)\n",
        "\n",
        "#set constant seed\n",
        "print(\"Set constant random seed\")\n",
        "seed(1)\n",
        "tf.random.set_seed(1)"
      ],
      "execution_count": 1,
      "outputs": [
        {
          "output_type": "stream",
          "text": [
            "Import libraries\n",
            "Tensorflow version 2.2.0\n",
            "Numpy version 1.18.4\n",
            "Set constant random seed\n"
          ],
          "name": "stdout"
        }
      ]
    },
    {
      "cell_type": "code",
      "metadata": {
        "id": "K8h0TqogmEdT",
        "colab_type": "code",
        "colab": {}
      },
      "source": [
        "#set constant seed\n",
        "seed(1)\n",
        "tf.random.set_seed(1)\n",
        "\n",
        "#parameters\n",
        "epochs = 200\n",
        "batch_size = 32"
      ],
      "execution_count": 0,
      "outputs": []
    },
    {
      "cell_type": "code",
      "metadata": {
        "id": "qb02VA5VmP_N",
        "colab_type": "code",
        "colab": {
          "base_uri": "https://localhost:8080/",
          "height": 131
        },
        "outputId": "3ffb841b-7156-459d-d0d1-8f8d2f863454"
      },
      "source": [
        "from tensorflow.keras.datasets import mnist\n",
        "(image_train, label_train), _ = mnist.load_data()\n",
        "\n",
        "#reshape\n",
        "image_train = image_train.reshape(-1, 28, 28, 1)\n",
        "print(\"Original image shape\", image_train.shape)\n",
        "x_train, _, y_train, _ = train_test_split(image_train, label_train, test_size = 0.9, shuffle = True, random_state = 10)\n",
        "print(\"Original image shape\", image_train.shape)\n",
        "print(\"Train_image shape\", x_train.shape)\n",
        "_, x_test, _, y_test = train_test_split(x_train, y_train, test_size = 0.3, shuffle = True, random_state = 1)\n",
        "print(\"x_train shape\", x_train.shape)\n",
        "print(\"y_train shape\", x_test.shape)"
      ],
      "execution_count": 3,
      "outputs": [
        {
          "output_type": "stream",
          "text": [
            "Downloading data from https://storage.googleapis.com/tensorflow/tf-keras-datasets/mnist.npz\n",
            "11493376/11490434 [==============================] - 0s 0us/step\n",
            "Original image shape (60000, 28, 28, 1)\n",
            "Original image shape (60000, 28, 28, 1)\n",
            "Train_image shape (6000, 28, 28, 1)\n",
            "x_train shape (6000, 28, 28, 1)\n",
            "y_train shape (1800, 28, 28, 1)\n"
          ],
          "name": "stdout"
        }
      ]
    },
    {
      "cell_type": "markdown",
      "metadata": {
        "id": "JUJlNzhSmEdY",
        "colab_type": "text"
      },
      "source": [
        "### Investigate data"
      ]
    },
    {
      "cell_type": "code",
      "metadata": {
        "id": "Y3q_tgc_mEdZ",
        "colab_type": "code",
        "colab": {
          "base_uri": "https://localhost:8080/",
          "height": 98
        },
        "outputId": "c38d6609-468d-4499-c2ef-9ed1e9c00847"
      },
      "source": [
        "#investigate data\n",
        "print(\"Investigate data\")\n",
        "\n",
        "print(\"x_train shape:\", x_train.shape)\n",
        "print(\"y_train shape\", y_train.shape)\n",
        "\n",
        "print(\"Check shape of images\")\n",
        "print(\"Image shape\", x_train[0].shape)"
      ],
      "execution_count": 6,
      "outputs": [
        {
          "output_type": "stream",
          "text": [
            "Investigate data\n",
            "x_train shape: (6000, 28, 28, 1)\n",
            "y_train shape (6000,)\n",
            "Check shape of images\n",
            "Image shape (28, 28, 1)\n"
          ],
          "name": "stdout"
        }
      ]
    },
    {
      "cell_type": "code",
      "metadata": {
        "id": "3-O8F0MkmEdc",
        "colab_type": "code",
        "colab": {
          "base_uri": "https://localhost:8080/",
          "height": 263
        },
        "outputId": "2dc8a272-37e8-4916-f30f-5ec21bb2e895"
      },
      "source": [
        "print(\"Inspect the labels' balance\")\n",
        "labels, occurences = np.unique(y_train, return_counts = True)\n",
        "plt.pie(occurences, labels = labels, autopct='%1.1f%%')\n",
        "plt.show()"
      ],
      "execution_count": 7,
      "outputs": [
        {
          "output_type": "stream",
          "text": [
            "Inspect the labels' balance\n"
          ],
          "name": "stdout"
        },
        {
          "output_type": "display_data",
          "data": {
            "image/png": "[encoded data removed]",
            "text/plain": [
              "<Figure size 432x288 with 1 Axes>"
            ]
          },
          "metadata": {
            "tags": []
          }
        }
      ]
    },
    {
      "cell_type": "code",
      "metadata": {
        "id": "K3neHI3lmEde",
        "colab_type": "code",
        "colab": {
          "base_uri": "https://localhost:8080/",
          "height": 777
        },
        "outputId": "ff9ac98e-83c4-45cd-92a5-8284504eee53"
      },
      "source": [
        "print(\"Print image\")\n",
        "indices = np.random.randint(0, x_train.shape[0], size = 3)\n",
        "printing_images = x_train[indices]\n",
        "printing_images = [x.reshape(28,28) for x in printing_images]\n",
        "\n",
        "#show images\n",
        "plt.imshow(printing_images[0])\n",
        "plt.show()\n",
        "plt.imshow(printing_images[1])\n",
        "plt.show()\n",
        "plt.imshow(printing_images[2])\n",
        "plt.show()"
      ],
      "execution_count": 8,
      "outputs": [
        {
          "output_type": "stream",
          "text": [
            "Print image\n"
          ],
          "name": "stdout"
        },
        {
          "output_type": "display_data",
          "data": {
            "image/png": "[encoded data removed]",
            "text/plain": [
              "<Figure size 432x288 with 1 Axes>"
            ]
          },
          "metadata": {
            "tags": [],
            "needs_background": "light"
          }
        },
        {
          "output_type": "display_data",
          "data": {
            "image/png": "[encoded data removed]",
            "text/plain": [
              "<Figure size 432x288 with 1 Axes>"
            ]
          },
          "metadata": {
            "tags": [],
            "needs_background": "light"
          }
        },
        {
          "output_type": "display_data",
          "data": {
            "image/png": "[encoded data removed]",
            "text/plain": [
              "<Figure size 432x288 with 1 Axes>"
            ]
          },
          "metadata": {
            "tags": [],
            "needs_background": "light"
          }
        }
      ]
    },
    {
      "cell_type": "markdown",
      "metadata": {
        "id": "t9O4lMCJmEdg",
        "colab_type": "text"
      },
      "source": [
        "### Build data generator       "
      ]
    },
    {
      "cell_type": "code",
      "metadata": {
        "id": "smOc1ICCmEdh",
        "colab_type": "code",
        "colab": {
          "base_uri": "https://localhost:8080/",
          "height": 82
        },
        "outputId": "4e1e2876-bfd5-4da6-907c-3b31e050f67e"
      },
      "source": [
        "print(\"Build data_generator by ImageDataGenerator\")\n",
        "train_image_gen = ImageDataGenerator(width_shift_range = 0.2, height_shift_range = 0.2, rotation_range = 10, brightness_range = (0.2, 0.8), rescale = 1./255.0)\n",
        "eval_image_gen = ImageDataGenerator(rescale=1./255.0)\n",
        "test_image_gen = ImageDataGenerator(rescale=1./255.)\n",
        "\n",
        "print(\"Generate evaluation data\")\n",
        "_, x_eval, _, y_eval = train_test_split(x_train, y_train, test_size = 0.3, shuffle = True, random_state = 1)\n",
        "\n",
        "train_image_gen.fit(x_train)\n",
        "train_gen = train_image_gen.flow(x_train, y_train, batch_size = batch_size)\n",
        "eval_image_gen.fit(x_eval)\n",
        "eval_gen = eval_image_gen.flow(x_eval, y_eval, batch_size = batch_size)\n",
        "\n",
        "print(\"train_gen\", train_gen.__len__())\n",
        "print(\"test_gen\", eval_gen.__len__())"
      ],
      "execution_count": 9,
      "outputs": [
        {
          "output_type": "stream",
          "text": [
            "Build data_generator by ImageDataGenerator\n",
            "Generate evaluation data\n",
            "train_gen 188\n",
            "test_gen 57\n"
          ],
          "name": "stdout"
        }
      ]
    },
    {
      "cell_type": "markdown",
      "metadata": {
        "id": "OQM5kv9umEdj",
        "colab_type": "text"
      },
      "source": [
        "### Build CNN model"
      ]
    },
    {
      "cell_type": "code",
      "metadata": {
        "id": "5ZZr5ZFUmEdj",
        "colab_type": "code",
        "colab": {
          "base_uri": "https://localhost:8080/",
          "height": 781
        },
        "outputId": "3519eb2d-2a36-4f95-afe3-807966ca4423"
      },
      "source": [
        "def create_model(name = 'CNN'):\n",
        "    model = Sequential(name = name)\n",
        "\n",
        "    model.add(MaxPool2D(4,4, input_shape = (28,28,1)))\n",
        "    model.add(Conv2D(28, kernel_size = 3, padding = 'same'))\n",
        "    model.add(BatchNormalization())\n",
        "    model.add(ReLU())\n",
        "    model.add(Conv2D(28, kernel_size = 3, padding = 'same'))\n",
        "    model.add(BatchNormalization())\n",
        "    model.add(ReLU())\n",
        "    model.add(MaxPool2D(2,1, padding = 'same'))\n",
        "\n",
        "    model.add(Conv2D(14, kernel_size = 5, padding = 'same'))\n",
        "    model.add(BatchNormalization())\n",
        "    model.add(ReLU())\n",
        "    model.add(Conv2D(14, kernel_size = 5, padding = 'same'))\n",
        "    model.add(BatchNormalization())\n",
        "    model.add(ReLU())\n",
        "    model.add(MaxPool2D(2,2))\n",
        "\n",
        "    model.add(Flatten())\n",
        "    model.add(Dense(512, activation = 'relu', kernel_regularizer = l2(0.01)))\n",
        "    model.add(Dense(256, activation = 'relu', kernel_regularizer = l2(0.01)))\n",
        "    model.add(Dense(10, activation = 'softmax'))\n",
        "    model.compile(optimizer = Adam(learning_rate= 0.001), loss = 'sparse_categorical_crossentropy', metrics =['accuracy'])\n",
        "    print(model.summary())\n",
        "    return model\n",
        "model = create_model(name = 'Conv_model')"
      ],
      "execution_count": 10,
      "outputs": [
        {
          "output_type": "stream",
          "text": [
            "Model: \"Conv_model\"\n",
            "_________________________________________________________________\n",
            "Layer (type)                 Output Shape              Param #   \n",
            "=================================================================\n",
            "max_pooling2d (MaxPooling2D) (None, 7, 7, 1)           0         \n",
            "_________________________________________________________________\n",
            "conv2d (Conv2D)              (None, 7, 7, 28)          280       \n",
            "_________________________________________________________________\n",
            "batch_normalization (BatchNo (None, 7, 7, 28)          112       \n",
            "_________________________________________________________________\n",
            "re_lu (ReLU)                 (None, 7, 7, 28)          0         \n",
            "_________________________________________________________________\n",
            "conv2d_1 (Conv2D)            (None, 7, 7, 28)          7084      \n",
            "_________________________________________________________________\n",
            "batch_normalization_1 (Batch (None, 7, 7, 28)          112       \n",
            "_________________________________________________________________\n",
            "re_lu_1 (ReLU)               (None, 7, 7, 28)          0         \n",
            "_________________________________________________________________\n",
            "max_pooling2d_1 (MaxPooling2 (None, 7, 7, 28)          0         \n",
            "_________________________________________________________________\n",
            "conv2d_2 (Conv2D)            (None, 7, 7, 14)          9814      \n",
            "_________________________________________________________________\n",
            "batch_normalization_2 (Batch (None, 7, 7, 14)          56        \n",
            "_________________________________________________________________\n",
            "re_lu_2 (ReLU)               (None, 7, 7, 14)          0         \n",
            "_________________________________________________________________\n",
            "conv2d_3 (Conv2D)            (None, 7, 7, 14)          4914      \n",
            "_________________________________________________________________\n",
            "batch_normalization_3 (Batch (None, 7, 7, 14)          56        \n",
            "_________________________________________________________________\n",
            "re_lu_3 (ReLU)               (None, 7, 7, 14)          0         \n",
            "_________________________________________________________________\n",
            "max_pooling2d_2 (MaxPooling2 (None, 3, 3, 14)          0         \n",
            "_________________________________________________________________\n",
            "flatten (Flatten)            (None, 126)               0         \n",
            "_________________________________________________________________\n",
            "dense (Dense)                (None, 512)               65024     \n",
            "_________________________________________________________________\n",
            "dense_1 (Dense)              (None, 256)               131328    \n",
            "_________________________________________________________________\n",
            "dense_2 (Dense)              (None, 10)                2570      \n",
            "=================================================================\n",
            "Total params: 221,350\n",
            "Trainable params: 221,182\n",
            "Non-trainable params: 168\n",
            "_________________________________________________________________\n",
            "None\n"
          ],
          "name": "stdout"
        }
      ]
    },
    {
      "cell_type": "markdown",
      "metadata": {
        "id": "BWW_TmvHmEdm",
        "colab_type": "text"
      },
      "source": [
        "#### Train"
      ]
    },
    {
      "cell_type": "code",
      "metadata": {
        "id": "gQ4knyFRmEdm",
        "colab_type": "code",
        "colab": {}
      },
      "source": [
        "def train(model, train_gen, val_gen, epochs, model_file = None, load_pretrained = False):\n",
        "  if load_pretrained:\n",
        "    model = load_weights(model_file)\n",
        "  #early stopping\n",
        "  early_stopping = EarlyStopping(monitor = 'val_accuracy', min_delta = 0, patience = 10, verbose = 1, mode = 'max')\n",
        "  #reduce lr\n",
        "  reduce_lr = ReduceLROnPlateau(monitor = 'val_loss', factor = 0.2, patience = 5, verbose = 1, mode = 'min', min_delta = 0.0001, min_lr = 0)\n",
        "  #checkpoint\n",
        "  checkpoint = ModelCheckpoint('weights.{epoch:02d}-{val_loss:.2f}.h5', monitor = 'val_accuracy', mode = 'max')\n",
        "  history = model.fit_generator(train_gen, validation_data = val_gen, epochs = epochs, callbacks = [early_stopping, reduce_lr, checkpoint], use_multiprocessing = False, shuffle = True)\n",
        "\n",
        "  #plot loss and accuracy\n",
        "  plt.plot(history.history['loss'])\n",
        "  plt.plot(history.history['val_loss'])\n",
        "  plt.title('Loss')\n",
        "  plt.show()\n",
        "\n",
        "  plt.plot(history.history['accuracy'])\n",
        "  plt.plot(history.history['val_accuracy'])\n",
        "  plt.title('Accuracy')\n",
        "  plt.show()\n",
        "  #save final weights\n",
        "  model.save_weights(model_file)\n",
        "  return history, model"
      ],
      "execution_count": 0,
      "outputs": []
    },
    {
      "cell_type": "code",
      "metadata": {
        "id": "1lAZYXxemEdo",
        "colab_type": "code",
        "colab": {
          "base_uri": "https://localhost:8080/",
          "height": 98
        },
        "outputId": "88d18a4b-2208-4eb6-ca55-481ad704b646"
      },
      "source": [
        "history, conv_model = train(model, train_gen, eval_gen, epochs = epochs, model_file = 'proj-tf1.h5', load_pretrained = False)"
      ],
      "execution_count": 0,
      "outputs": [
        {
          "output_type": "stream",
          "text": [
            "WARNING:tensorflow:From <ipython-input-11-e24157572483>:10: Model.fit_generator (from tensorflow.python.keras.engine.training) is deprecated and will be removed in a future version.\n",
            "Instructions for updating:\n",
            "Please use Model.fit, which supports generators.\n",
            "Epoch 1/200\n",
            "    356/Unknown - 14s 38ms/step - loss: 2.5265 - accuracy: 0.6414"
          ],
          "name": "stdout"
        }
      ]
    },
    {
      "cell_type": "markdown",
      "metadata": {
        "id": "0IgCnuWAmEdq",
        "colab_type": "text"
      },
      "source": [
        "### Evaluation"
      ]
    },
    {
      "cell_type": "code",
      "metadata": {
        "id": "Y6d1-EjmmEdr",
        "colab_type": "code",
        "colab": {},
        "outputId": "e21f1a7b-2857-407e-c51d-d13562b3b6b7"
      },
      "source": [
        "print(\"Load the testing data\")\n",
        "x_test_2d = np.loadtxt(test_x_location, dtype = \"uint8\", delimiter = \",\")\n",
        "x_test = x_test_2d.reshape(-1, 28, 28, 1) #reshape to (image_num, 28, 28, 1) because of grayscale images\n",
        "y_test = np.loadtxt(test_y_location, dtype = \"uint8\", delimiter = \",\")\n",
        "\n",
        "test_image_gen.fit(x_test)\n",
        "test_gen = test_image_gen.flow(x_test, y_test, batch_size = batch_size)\n",
        "print(\"eval_gen\", test_gen.__len__())"
      ],
      "execution_count": 0,
      "outputs": [
        {
          "output_type": "stream",
          "text": [
            "Load the testing data\n",
            "Load the testing data\n",
            "eval_gen 313\n",
            "eval_gen 313\n"
          ],
          "name": "stdout"
        }
      ]
    },
    {
      "cell_type": "code",
      "metadata": {
        "id": "WpGAdYbNmEdt",
        "colab_type": "code",
        "colab": {},
        "outputId": "3a6650d7-8b0d-4c44-c678-7fca41dd8f47"
      },
      "source": [
        "conv_model.evaluate(test_gen)"
      ],
      "execution_count": 0,
      "outputs": [
        {
          "output_type": "stream",
          "text": [
            "313/313 [==============================] - 2s 5ms/step - loss: 0.4921 - accuracy: 0.8657\n",
            "313/313 [==============================] - 2s 5ms/step - loss: 0.4921 - accuracy: 0.8657\n"
          ],
          "name": "stdout"
        },
        {
          "output_type": "execute_result",
          "data": {
            "text/plain": [
              "[0.49208119830574854, 0.8657]"
            ]
          },
          "metadata": {
            "tags": []
          },
          "execution_count": 15
        },
        {
          "output_type": "execute_result",
          "data": {
            "text/plain": [
              "[0.49208119830574854, 0.8657]"
            ]
          },
          "metadata": {
            "tags": []
          },
          "execution_count": 15
        }
      ]
    },
    {
      "cell_type": "code",
      "metadata": {
        "id": "66CHLtemmEdw",
        "colab_type": "code",
        "colab": {}
      },
      "source": [
        ""
      ],
      "execution_count": 0,
      "outputs": []
    }
  ]
}